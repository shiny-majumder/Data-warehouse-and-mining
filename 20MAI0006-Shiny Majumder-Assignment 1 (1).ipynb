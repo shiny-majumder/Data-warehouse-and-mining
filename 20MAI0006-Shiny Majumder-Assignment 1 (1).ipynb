{
 "cells": [
  {
   "cell_type": "markdown",
   "id": "hairy-hollow",
   "metadata": {},
   "source": [
    "<b>Basic data structures in Python NumPy and PANDAS</b>\n",
    "\n",
    "Data structures are a way of organizing and storing data so that they can be accessed and worked with efficiently. They define the relationship between the data, and the operations that can be performed on the data.Python is a high-level, interpreted, interactive and object-oriented scripting language using which we can study the fundamentals of data structure in a simpler way as compared to other programming languages.\n",
    "\n",
    "So, here are some basic data structure in python using Numpy and Pandas:"
   ]
  },
  {
   "cell_type": "markdown",
   "id": "colored-moses",
   "metadata": {},
   "source": [
    "<b>Code for basic datastructures in python without Numpy and Pandas:</b>"
   ]
  },
  {
   "cell_type": "code",
   "execution_count": 5,
   "id": "varied-variation",
   "metadata": {},
   "outputs": [
    {
     "name": "stdout",
     "output_type": "stream",
     "text": [
      "My name is Shiny\n"
     ]
    }
   ],
   "source": [
    "#Strings in python\n",
    "\n",
    "# Assigning string to a variable \n",
    "a = \"My name is Shiny\"\n",
    "print (a) "
   ]
  },
  {
   "cell_type": "code",
   "execution_count": 6,
   "id": "given-healing",
   "metadata": {},
   "outputs": [
    {
     "name": "stdout",
     "output_type": "stream",
     "text": [
      "['apple', 'cake', 'cherry', 'dress', 'cherry']\n"
     ]
    }
   ],
   "source": [
    "#Lists in Python \n",
    "\n",
    "# Declaring a list \n",
    "thislist = [\"apple\", \"cake\", \"cherry\", \"dress\", \"cherry\"]\n",
    "print(thislist)"
   ]
  },
  {
   "cell_type": "code",
   "execution_count": 7,
   "id": "olympic-polymer",
   "metadata": {},
   "outputs": [
    {
     "name": "stdout",
     "output_type": "stream",
     "text": [
      "(1, 'M', 'Shiny', 6)\n",
      "M\n"
     ]
    }
   ],
   "source": [
    "#Tuples in Python\n",
    "\n",
    "tup = (1, \"M\", \"Shiny\", 3+3) \n",
    "print(tup) \n",
    "print(tup[1])"
   ]
  },
  {
   "cell_type": "code",
   "execution_count": 8,
   "id": "norman-martin",
   "metadata": {},
   "outputs": [
    {
     "name": "stdout",
     "output_type": "stream",
     "text": [
      "Intial blank Set: \n",
      "set()\n",
      "\n",
      "Set with the use of String: \n",
      "{'h', 'e', 'j', 'r', 'M', 'T', 'n', 'y', 'u', 'a', 'S', 'i', 'd', 'm'}\n",
      "\n",
      "Set with the use of an Object: \n",
      "{'h', 'e', 'j', 'r', 'M', 'T', 'n', 'y', 'u', 'a', 'S', 'i', 'd', 'm'}\n",
      "\n",
      "Set with the use of List: \n",
      "{'Tinni', 'Shiny', 'Majumder'}\n"
     ]
    }
   ],
   "source": [
    "# Python program to demonstrate creation of Set in Python \n",
    "  \n",
    "# Creating a Set \n",
    "set1 = set() \n",
    "print(\"Intial blank Set: \") \n",
    "print(set1) # Creating a Set with  \n",
    "# the use of a String \n",
    "set1 = set(\"ShinyTinniMajumder\") \n",
    "print(\"\\nSet with the use of String: \") \n",
    "print(set1) \n",
    "  \n",
    "# Creating a Set with \n",
    "# the use of Constructor \n",
    "# (Using object to Store String) \n",
    "String = 'ShinyTinniMajumder'\n",
    "set1 = set(String) \n",
    "print(\"\\nSet with the use of an Object: \" ) \n",
    "print(set1) \n",
    "  \n",
    "# Creating a Set with \n",
    "# the use of a List \n",
    "set1 = set([\"Shiny\", \"Tinni\", \"Majumder\"]) \n",
    "print(\"\\nSet with the use of List: \") \n",
    "print(set1)"
   ]
  },
  {
   "cell_type": "code",
   "execution_count": 9,
   "id": "attended-senator",
   "metadata": {},
   "outputs": [
    {
     "name": "stdout",
     "output_type": "stream",
     "text": [
      "\n",
      "Dictionary with the use of Integer Keys: \n",
      "{1: 'Shiny', 2: 'Majumder', 3: 'Tinni'}\n",
      "\n",
      "Dictionary with the use of Mixed Keys: \n",
      "{'Name': 'Shiny', 1: [1, 2, 3, 4]}\n"
     ]
    }
   ],
   "source": [
    "# Creating a Dictionary  \n",
    "# with Integer Keys \n",
    "Dict = {1: 'Shiny', 2: 'Majumder', 3: 'Tinni'} \n",
    "print(\"\\nDictionary with the use of Integer Keys: \") \n",
    "print(Dict) \n",
    "  \n",
    "# Creating a Dictionary  \n",
    "# with Mixed keys \n",
    "Dict = {'Name': 'Shiny', 1: [1, 2, 3, 4]} \n",
    "print(\"\\nDictionary with the use of Mixed Keys: \") \n",
    "print(Dict) "
   ]
  },
  {
   "cell_type": "code",
   "execution_count": 10,
   "id": "elegant-jurisdiction",
   "metadata": {},
   "outputs": [
    {
     "name": "stdout",
     "output_type": "stream",
     "text": [
      "The new created array is :  4 5 6 7 \n",
      "The new created array is :  2.5 3.2 3.3 "
     ]
    }
   ],
   "source": [
    "# Python program to demonstrate  \n",
    "# Creation of Array  \n",
    "  \n",
    "# importing \"array\" for array creations \n",
    "import array as arr \n",
    "  \n",
    "# creating an array with integer type \n",
    "a = arr.array('i', [4,5,6,7]) \n",
    "  \n",
    "# printing original array \n",
    "print (\"The new created array is : \", end =\" \") \n",
    "for i in range (0, 4): \n",
    "    print (a[i], end =\" \") \n",
    "print() \n",
    "  \n",
    "# creating an array with float type \n",
    "b = arr.array('d', [2.5, 3.2, 3.3]) \n",
    "  \n",
    "# printing original array \n",
    "print (\"The new created array is : \", end =\" \") \n",
    "for i in range (0, 3): \n",
    "    print (b[i], end =\" \") "
   ]
  },
  {
   "cell_type": "markdown",
   "id": "golden-session",
   "metadata": {},
   "source": [
    "<b>Data structure using Numpy and Pandas</b>"
   ]
  },
  {
   "cell_type": "code",
   "execution_count": 11,
   "id": "purple-walnut",
   "metadata": {},
   "outputs": [],
   "source": [
    "import numpy as np\n",
    "import pandas as pd"
   ]
  },
  {
   "cell_type": "code",
   "execution_count": 12,
   "id": "bridal-philosophy",
   "metadata": {},
   "outputs": [
    {
     "name": "stdout",
     "output_type": "stream",
     "text": [
      "Array is of type:  <class 'numpy.ndarray'>\n",
      "No. of dimensions:  2\n",
      "Shape of array:  (2, 3)\n",
      "Size of array:  6\n",
      "Array stores elements of type:  int32\n"
     ]
    }
   ],
   "source": [
    "# Python program to demonstrate \n",
    "# basic array characteristics\n",
    "import numpy as np\n",
    " \n",
    "# Creating array object\n",
    "arr = np.array( [[ 1, 2, 3],\n",
    "                 [ 4, 2, 5]] )\n",
    " \n",
    "# Printing type of arr object\n",
    "print(\"Array is of type: \", type(arr))\n",
    " \n",
    "# Printing array dimensions (axes)\n",
    "print(\"No. of dimensions: \", arr.ndim)\n",
    " \n",
    "# Printing shape of array\n",
    "print(\"Shape of array: \", arr.shape)\n",
    " \n",
    "# Printing size (total number of elements) of array\n",
    "print(\"Size of array: \", arr.size)\n",
    " \n",
    "# Printing type of elements in array\n",
    "print(\"Array stores elements of type: \", arr.dtype)\n"
   ]
  },
  {
   "cell_type": "code",
   "execution_count": 13,
   "id": "violent-seeker",
   "metadata": {},
   "outputs": [
    {
     "name": "stdout",
     "output_type": "stream",
     "text": [
      "Array is of type:  <class 'numpy.ndarray'>\n",
      "No. of dimensions:  2\n",
      "Shape of array:  (2, 3)\n",
      "Size of array:  6\n",
      "Array stores elements of type:  int32\n"
     ]
    }
   ],
   "source": [
    "# Python program to demonstrate basic array characteristics\n",
    "\n",
    "import numpy as np\n",
    " \n",
    "# Creating array object\n",
    "arr = np.array( [[ 1, 2, 3],\n",
    "                 [ 4, 2, 5]] )\n",
    " \n",
    "# Printing type of arr object\n",
    "print(\"Array is of type: \", type(arr))\n",
    " \n",
    "# Printing array dimensions (axes)\n",
    "print(\"No. of dimensions: \", arr.ndim)\n",
    " \n",
    "# Printing shape of array\n",
    "print(\"Shape of array: \", arr.shape)\n",
    " \n",
    "# Printing size (total number of elements) of array\n",
    "print(\"Size of array: \", arr.size)\n",
    " \n",
    "# Printing type of elements in array\n",
    "print(\"Array stores elements of type: \", arr.dtype)"
   ]
  },
  {
   "cell_type": "code",
   "execution_count": 14,
   "id": "proud-maine",
   "metadata": {},
   "outputs": [
    {
     "name": "stdout",
     "output_type": "stream",
     "text": [
      "[1 2 3 4 5]\n",
      "<class 'numpy.ndarray'>\n"
     ]
    }
   ],
   "source": [
    "#Creating array using numpy\n",
    "\n",
    "import numpy as np\n",
    "\n",
    "arr = np.array([1, 2, 3, 4, 5])\n",
    "\n",
    "print(arr)\n",
    "\n",
    "print(type(arr))"
   ]
  },
  {
   "cell_type": "code",
   "execution_count": 15,
   "id": "loose-samba",
   "metadata": {},
   "outputs": [
    {
     "name": "stdout",
     "output_type": "stream",
     "text": [
      "<U6\n"
     ]
    }
   ],
   "source": [
    "#creating string using numpy\n",
    "\n",
    "import numpy as np\n",
    "\n",
    "arr = np.array(['apple', 'banana', 'shoe'])\n",
    "\n",
    "print(arr.dtype)"
   ]
  },
  {
   "cell_type": "code",
   "execution_count": 16,
   "id": "indie-lightning",
   "metadata": {},
   "outputs": [
    {
     "name": "stdout",
     "output_type": "stream",
     "text": [
      "Empty DataFrame\n",
      "Columns: []\n",
      "Index: []\n"
     ]
    }
   ],
   "source": [
    "#import the pandas library and aliasing as pd\n",
    "import pandas as pd\n",
    "df = pd.DataFrame()\n",
    "print (df)"
   ]
  },
  {
   "cell_type": "code",
   "execution_count": 17,
   "id": "alone-massachusetts",
   "metadata": {},
   "outputs": [
    {
     "name": "stdout",
     "output_type": "stream",
     "text": [
      "   0\n",
      "0  1\n",
      "1  2\n",
      "2  3\n",
      "3  4\n",
      "4  5\n"
     ]
    }
   ],
   "source": [
    "#Create a DataFrame from Lists\n",
    "\n",
    "import pandas as pd\n",
    "data = [1,2,3,4,5]\n",
    "df = pd.DataFrame(data)\n",
    "print (df)"
   ]
  },
  {
   "cell_type": "code",
   "execution_count": 18,
   "id": "ambient-moscow",
   "metadata": {},
   "outputs": [
    {
     "name": "stdout",
     "output_type": "stream",
     "text": [
      "         Name  Age\n",
      "0       Shiny   28\n",
      "1         Anu   34\n",
      "2    Sriparna   29\n",
      "3  Antarleena   42\n"
     ]
    }
   ],
   "source": [
    "#Create a DataFrame from Dict of ndarrays / Lists\n",
    "\n",
    "import pandas as pd\n",
    "data = {'Name':['Shiny', 'Anu', 'Sriparna', 'Antarleena'],'Age':[28,34,29,42]}\n",
    "df = pd.DataFrame(data)\n",
    "print (df)"
   ]
  },
  {
   "cell_type": "code",
   "execution_count": 19,
   "id": "answering-excitement",
   "metadata": {},
   "outputs": [
    {
     "name": "stdout",
     "output_type": "stream",
     "text": [
      "   a   b     c\n",
      "0  1   2   NaN\n",
      "1  5  10  20.0\n"
     ]
    }
   ],
   "source": [
    "#Create a DataFrame from List of Dicts\n",
    "\n",
    "import pandas as pd\n",
    "data = [{'a': 1, 'b': 2},{'a': 5, 'b': 10, 'c': 20}]\n",
    "df = pd.DataFrame(data)\n",
    "print (df)"
   ]
  },
  {
   "cell_type": "code",
   "execution_count": 20,
   "id": "charming-dominican",
   "metadata": {},
   "outputs": [
    {
     "name": "stdout",
     "output_type": "stream",
     "text": [
      "   one  two\n",
      "a  1.0    1\n",
      "b  2.0    2\n",
      "c  3.0    3\n",
      "d  NaN    4\n"
     ]
    }
   ],
   "source": [
    "#Create a DataFrame from Dict of Seriesimport pandas as pd\n",
    "\n",
    "import pandas as pd\n",
    "\n",
    "d = {'one' : pd.Series([1, 2, 3], index=['a', 'b', 'c']),\n",
    "   'two' : pd.Series([1, 2, 3, 4], index=['a', 'b', 'c', 'd'])}\n",
    "\n",
    "df = pd.DataFrame(d)\n",
    "print (df)"
   ]
  },
  {
   "cell_type": "code",
   "execution_count": null,
   "id": "permanent-hammer",
   "metadata": {},
   "outputs": [],
   "source": []
  }
 ],
 "metadata": {
  "kernelspec": {
   "display_name": "Python 3",
   "language": "python",
   "name": "python3"
  },
  "language_info": {
   "codemirror_mode": {
    "name": "ipython",
    "version": 3
   },
   "file_extension": ".py",
   "mimetype": "text/x-python",
   "name": "python",
   "nbconvert_exporter": "python",
   "pygments_lexer": "ipython3",
   "version": "3.9.2"
  }
 },
 "nbformat": 4,
 "nbformat_minor": 5
}
